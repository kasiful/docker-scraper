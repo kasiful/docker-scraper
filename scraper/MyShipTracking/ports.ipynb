{
 "cells": [
  {
   "cell_type": "code",
   "execution_count": 20,
   "id": "5d58dc4d-fdd0-4be0-b77f-7b49bb1add80",
   "metadata": {},
   "outputs": [],
   "source": [
    "import sqlite3"
   ]
  },
  {
   "cell_type": "code",
   "execution_count": 21,
   "id": "244e1979-8a83-4526-8ab1-62a42e107c3c",
   "metadata": {},
   "outputs": [],
   "source": [
    "def progressBar(current, total, barLength = 20):\n",
    "    percent = float(current) * 100 / total\n",
    "    arrow   = '=' * int(percent/100 * barLength - 1) + '>'\n",
    "    spaces  = ' ' * (barLength - len(arrow))\n",
    "\n",
    "    print('Progress: [%s%s] %d %%' % (arrow, spaces, percent), end='\\r')"
   ]
  },
  {
   "cell_type": "code",
   "execution_count": 22,
   "id": "565c40e0-05a1-4e38-99f5-9386a4fcb907",
   "metadata": {},
   "outputs": [],
   "source": [
    "sqliteConnection = sqlite3.connect('ais05.db')\n",
    "sqlite_create_table_query = '''CREATE TABLE IF NOT EXISTS ports ( \n",
    "    id INTEGER PRIMARY KEY, \n",
    "    name VARCHAR(20), \n",
    "    type VARCHAR(20), \n",
    "    longitude REAL, \n",
    "    latitude REAL, \n",
    "    area_size VARCHAR(10),\n",
    "    local_time VARCHAR(10),\n",
    "    timezone VARCHAR(30),\n",
    "    url TEXT\n",
    "    );'''\n",
    "\n",
    "cursor = sqliteConnection.cursor()\n",
    "cursor.execute(sqlite_create_table_query)\n",
    "\n",
    "sqliteConnection.commit()\n",
    "\n",
    "cursor.close()\n",
    "\n",
    "sqliteConnection.close()"
   ]
  },
  {
   "cell_type": "code",
   "execution_count": 23,
   "id": "542cb140-0caa-4750-b1b5-53e14c287340",
   "metadata": {},
   "outputs": [],
   "source": [
    "%config Completer.use_jedi = False"
   ]
  },
  {
   "cell_type": "code",
   "execution_count": 43,
   "id": "c51db0d4-5580-471f-b2b7-89e16299f381",
   "metadata": {},
   "outputs": [],
   "source": [
    "# https://www.google.com/travel/things-to-do\n",
    "\n",
    "from selenium import webdriver\n",
    "from selenium.webdriver.common.keys import Keys\n",
    "from selenium.webdriver.support.ui import WebDriverWait\n",
    "\n",
    "from time import sleep\n",
    "\n",
    "import numpy as np"
   ]
  },
  {
   "cell_type": "code",
   "execution_count": 25,
   "id": "bae6994a-12fd-42ba-9619-be34754deed0",
   "metadata": {},
   "outputs": [],
   "source": [
    "chrome_options = webdriver.chrome.options.Options()\n",
    "chrome_options.add_argument(\"--headless\")\n",
    "\n",
    "# driver = webdriver.Chrome(\"./chromedriver\")\n",
    "# driver.get(\"https://www.myshiptracking.com/ports&pp=50\") # pp=50 artinya per page dimunculin 50 row\n",
    "\n",
    "driver = webdriver.Chrome(\"./chromedriver\", options = chrome_options)\n",
    "driver.get(\"https://www.myshiptracking.com/ports&pp=50\") # pp=50 artinya per page dimunculin 50 row\n",
    "\n",
    "# elem = driver.find_element_by_name(\"q\")\n",
    "# elem.clear()\n",
    "# elem.send_keys(\"pycon\")\n",
    "# elem.send_keys(Keys.RETURN)\n",
    "# assert \"No results found.\" not in driver.page_source\n",
    "# driver.close()"
   ]
  },
  {
   "cell_type": "code",
   "execution_count": 26,
   "id": "a7cbb303-fb2d-4348-8766-ed1ef5fa1d71",
   "metadata": {},
   "outputs": [],
   "source": [
    "# ambil nilai pagination terakhirnya berapa\n",
    "last_page = driver.find_element_by_xpath(\"//div[@class='table_footer']/div[@class='table_paging_results']/div[@class='paging_column_center center']/nav/ul/li[position()=last()-1]/a\")\n",
    "last_page = int(last_page.get_attribute(\"href\").split(\"&page=\")[1])"
   ]
  },
  {
   "cell_type": "code",
   "execution_count": 27,
   "id": "9eb03c3c-a74a-4ae9-b9a2-a451fcb637ae",
   "metadata": {},
   "outputs": [
    {
     "name": "stdout",
     "output_type": "stream",
     "text": [
      "Progress: [===================>] 100 %\n",
      "\n"
     ]
    }
   ],
   "source": [
    "# lakukan perulangan untuk setiap page, lalu di cek yang mana punya Indonesia dari benderanya\n",
    "\n",
    "dlist = []\n",
    "\n",
    "# ini nanti perulangan page dari 1 sampai last_page\n",
    "for page in range(1,last_page+1):\n",
    "\n",
    "    driver.get(\"https://www.myshiptracking.com/ports&pp=50&page=\"+str(page))\n",
    "    rows = driver.find_elements_by_xpath(\"//table[@class='table_main']/tbody/tr\")   \n",
    "    \n",
    "    for row in rows:\n",
    "        flag = row.find_element_by_tag_name(\"td\").find_element_by_tag_name(\"img\").get_attribute(\"src\")\n",
    "        if (\"ID.png\" in flag):\n",
    "            url = row.find_elements_by_tag_name(\"td\")[1].find_element_by_tag_name(\"a\").get_attribute(\"href\")\n",
    "            dlist.append(url)\n",
    "            \n",
    "    progressBar(page, last_page)\n",
    "                \n",
    "print(\"\\n\")\n",
    "    "
   ]
  },
  {
   "cell_type": "code",
   "execution_count": 28,
   "id": "b8dca57e-578e-4480-8f4b-398b03f7545e",
   "metadata": {},
   "outputs": [],
   "source": [
    "import pickle"
   ]
  },
  {
   "cell_type": "code",
   "execution_count": 29,
   "id": "9d36b27d-4265-4b96-a453-568ee8e9c352",
   "metadata": {},
   "outputs": [],
   "source": [
    "# Saving the objects:\n",
    "with open('list_port.pkl', 'wb') as f:  # Python 3: open(..., 'wb')\n",
    "    pickle.dump(dlist, f)\n",
    "\n",
    "# Getting back the objects:\n",
    "# with open('objs.pkl') as f:  # Python 3: open(..., 'rb')\n",
    "#     obj0, obj1, obj2 = pickle.load(f)"
   ]
  },
  {
   "cell_type": "code",
   "execution_count": 89,
   "id": "3ee1685f-f912-41fe-a9bf-9a186dde33c1",
   "metadata": {},
   "outputs": [],
   "source": [
    "# Getting back the objects:\n",
    "with open('list_port.pkl', 'rb') as f:  # Python 3: open(..., 'rb')\n",
    "    dlist = pickle.load(f)"
   ]
  },
  {
   "cell_type": "code",
   "execution_count": 77,
   "id": "529e6064-3288-4f5b-a34e-1d4b4149eb25",
   "metadata": {},
   "outputs": [
    {
     "name": "stdout",
     "output_type": "stream",
     "text": [
      "cek port yang belum pernah dimasukan ke database sebelumnya\n"
     ]
    }
   ],
   "source": [
    "# ambil url yang pernah ada di database\n",
    "\n",
    "print(\"cek port yang belum pernah dimasukan ke database sebelumnya\")\n",
    "\n",
    "sqliteConnection = sqlite3.connect('ais05.db')\n",
    "\n",
    "cursor = sqliteConnection.cursor()\n",
    "\n",
    "temp = cursor.execute('select url from ports')\n",
    "temp = cursor.fetchall()\n",
    "\n",
    "list_port_db = []\n",
    "for t in temp:\n",
    "    list_port_db.append((t[0]))\n",
    "\n",
    "sqliteConnection.commit()\n",
    "cursor.close()\n",
    "sqliteConnection.close()"
   ]
  },
  {
   "cell_type": "code",
   "execution_count": 91,
   "id": "03b2f3e0-c58b-41db-9a98-80f625dbd50b",
   "metadata": {},
   "outputs": [],
   "source": [
    "dlist = np.asarray(dlist[0:50])\n",
    "list_port_db = np.asarray(list_port_db)"
   ]
  },
  {
   "cell_type": "code",
   "execution_count": 92,
   "id": "509acfe8-0acf-4654-8846-2497704ac678",
   "metadata": {},
   "outputs": [
    {
     "name": "stdout",
     "output_type": "stream",
     "text": [
      "50 122\n"
     ]
    }
   ],
   "source": [
    "print(len(dlist),len(list_port_db))"
   ]
  },
  {
   "cell_type": "code",
   "execution_count": 93,
   "id": "d5efe8f8-2969-4faa-ba29-f8e999d3ee06",
   "metadata": {},
   "outputs": [
    {
     "name": "stdout",
     "output_type": "stream",
     "text": [
      "terdapat 0 yang belum tercatat di database\n"
     ]
    }
   ],
   "source": [
    "# lalu disisakan url yang belum pernah tercatat dan dicatat ke list_port\n",
    "\n",
    "mask = np.in1d(dlist, list_port_db)\n",
    "dlist = dlist[np.where(~mask)[0]]\n",
    "\n",
    "print(\"terdapat\",len(dlist),\"yang belum tercatat di database\")"
   ]
  },
  {
   "cell_type": "code",
   "execution_count": 94,
   "id": "6f3e9a26-8482-46d2-b503-73cb53761735",
   "metadata": {},
   "outputs": [],
   "source": [
    "dports = []"
   ]
  },
  {
   "cell_type": "code",
   "execution_count": 95,
   "id": "9758cca6-cd5a-400f-984d-7b32ddc5cb7f",
   "metadata": {},
   "outputs": [
    {
     "name": "stdout",
     "output_type": "stream",
     "text": [
      "Mengambil informasi dari masing2 id pelabuhan\n",
      "\n",
      "\n"
     ]
    }
   ],
   "source": [
    "# saatnya mengumpulkan variabel yang dibutuhkan\n",
    "# buka masing-masing link lalu simpan ke database\n",
    "\n",
    "print(\"Mengambil informasi dari masing2 id pelabuhan\")\n",
    "\n",
    "i = 0\n",
    "for url in dlist:\n",
    "\n",
    "    driver.get(url)\n",
    "    temp = driver.find_elements_by_xpath(\"//table[@class='vessels_table']/tbody/tr\")\n",
    "\n",
    "    getId        = int(url.split(\"indonesia-id-\")[1])\n",
    "    getName      = temp[0].find_elements_by_tag_name(\"td\")[1].text\n",
    "    getType      = temp[2].find_elements_by_tag_name(\"td\")[1].text\n",
    "    getLongitude = float(temp[4].find_elements_by_tag_name(\"td\")[1].text[0:-1])\n",
    "    getLatitude  = float(temp[5].find_elements_by_tag_name(\"td\")[1].text[0:-1])\n",
    "    getAreaSize  = temp[6].find_elements_by_tag_name(\"td\")[1].text\n",
    "\n",
    "    getLocalTime = temp[11].find_elements_by_tag_name(\"td\")[1].text\n",
    "    getLocalTime = getLocalTime.split(\"(\")[1][0:-1]\n",
    "\n",
    "    getTimeZone  = temp[12].find_elements_by_tag_name(\"td\")[1].text\n",
    "\n",
    "    dports.append((\n",
    "    getId, getName, getType, getLongitude, getLatitude, getAreaSize, getLocalTime, getTimeZone, url\n",
    "    ))\n",
    "    \n",
    "    progressBar(i, len(dlist)-1)\n",
    "    i=i+1\n",
    "\n",
    "print(\"\\n\")"
   ]
  },
  {
   "cell_type": "code",
   "execution_count": 96,
   "id": "090f6e2a-dbed-4d1e-a9c0-ba5ab7ebdc96",
   "metadata": {},
   "outputs": [
    {
     "name": "stdout",
     "output_type": "stream",
     "text": [
      "Store ke database tabel ports\n",
      "store ke database berhasil\n",
      "Update ports berhasil\n"
     ]
    }
   ],
   "source": [
    "# Simpan ke database (Paling penting)\n",
    "print(\"Store ke database tabel ports\")\n",
    "\n",
    "sqliteConnection = sqlite3.connect('ais05.db')\n",
    "cursor = sqliteConnection.cursor()\n",
    "\n",
    "cursor.execute(\"BEGIN TRANSACTION;\")\n",
    "try:\n",
    "#     cursor.execute(\"delete from ports\")\n",
    "#     cursor.execute(\"VACUUM\")\n",
    "    cursor.executemany(\"insert into ports(id, name, type, longitude, latitude, area_size, local_time, timezone, url) values (?,?,?,?,?,?,?,?,?)\", dports)\n",
    "    cursor.execute(\"commit\")\n",
    "    print(\"store ke database berhasil\")\n",
    "except sqliteConnection.Error as e:\n",
    "    print(\"gagal! roolback database:\", e)\n",
    "    cursor.execute(\"rollback\")\n",
    "    \n",
    "cursor.close()\n",
    "sqliteConnection.close()\n",
    "\n",
    "print(\"Update ports berhasil\")"
   ]
  },
  {
   "cell_type": "code",
   "execution_count": null,
   "id": "5dcd2dc9-8555-49e7-9ac1-440d1b34eb5b",
   "metadata": {},
   "outputs": [],
   "source": []
  }
 ],
 "metadata": {
  "kernelspec": {
   "display_name": "Python 3",
   "language": "python",
   "name": "python3"
  },
  "language_info": {
   "codemirror_mode": {
    "name": "ipython",
    "version": 3
   },
   "file_extension": ".py",
   "mimetype": "text/x-python",
   "name": "python",
   "nbconvert_exporter": "python",
   "pygments_lexer": "ipython3",
   "version": "3.8.8"
  }
 },
 "nbformat": 4,
 "nbformat_minor": 5
}
