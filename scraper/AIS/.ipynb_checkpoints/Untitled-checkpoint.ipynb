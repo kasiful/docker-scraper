{
 "cells": [
  {
   "cell_type": "code",
   "execution_count": 1,
   "id": "complex-summit",
   "metadata": {},
   "outputs": [],
   "source": [
    "from selenium import webdriver\n",
    "from selenium.webdriver.common.keys import Keys"
   ]
  },
  {
   "cell_type": "code",
   "execution_count": 2,
   "id": "fantastic-casino",
   "metadata": {},
   "outputs": [],
   "source": [
    "%config Completer.use_jedi = False"
   ]
  },
  {
   "cell_type": "code",
   "execution_count": 4,
   "id": "floral-architecture",
   "metadata": {},
   "outputs": [],
   "source": [
    "driver = webdriver.Chrome(\"./chromeDriver/chromedriver\")"
   ]
  },
  {
   "cell_type": "code",
   "execution_count": 16,
   "id": "processed-great",
   "metadata": {},
   "outputs": [],
   "source": [
    "driver.get(\"https://web.kaiza.la/Account/Webapp\")"
   ]
  },
  {
   "cell_type": "code",
   "execution_count": 17,
   "id": "foster-geology",
   "metadata": {},
   "outputs": [],
   "source": [
    "from selenium.webdriver.common.by import By\n",
    "# grup = driver.find_element(By.XPATH, '//span[text()=\"76006 - Bidang IPDS\"]')\n",
    "grup = driver.find_element(By.XPATH, '//span[text()=\"tes saja\"]')"
   ]
  },
  {
   "cell_type": "code",
   "execution_count": 18,
   "id": "following-sterling",
   "metadata": {},
   "outputs": [],
   "source": [
    "grup.click()"
   ]
  },
  {
   "cell_type": "code",
   "execution_count": 23,
   "id": "monetary-germany",
   "metadata": {},
   "outputs": [],
   "source": [
    "tombol = driver.find_element(By.XPATH, '//div[text()=\"Mark Attendance\"]') "
   ]
  },
  {
   "cell_type": "code",
   "execution_count": 25,
   "id": "unlikely-product",
   "metadata": {},
   "outputs": [],
   "source": [
    "tombol.click()"
   ]
  },
  {
   "cell_type": "code",
   "execution_count": null,
   "id": "married-anthony",
   "metadata": {},
   "outputs": [],
   "source": []
  }
 ],
 "metadata": {
  "kernelspec": {
   "display_name": "Python 3",
   "language": "python",
   "name": "python3"
  },
  "language_info": {
   "codemirror_mode": {
    "name": "ipython",
    "version": 3
   },
   "file_extension": ".py",
   "mimetype": "text/x-python",
   "name": "python",
   "nbconvert_exporter": "python",
   "pygments_lexer": "ipython3",
   "version": "3.8.6"
  }
 },
 "nbformat": 4,
 "nbformat_minor": 5
}
