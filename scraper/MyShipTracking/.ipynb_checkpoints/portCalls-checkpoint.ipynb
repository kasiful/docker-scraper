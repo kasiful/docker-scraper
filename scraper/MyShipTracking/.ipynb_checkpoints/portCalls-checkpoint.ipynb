{
 "cells": [
  {
   "cell_type": "code",
   "execution_count": 11,
   "id": "59cb9854-ed3b-4320-a6fe-b1bbeb3c382d",
   "metadata": {},
   "outputs": [],
   "source": [
    "import sqlite3\n",
    "\n",
    "from datetime import datetime\n",
    "from datetime import date\n",
    "from datetime import timedelta\n",
    "\n",
    "from selenium import webdriver\n",
    "from selenium.webdriver.common.keys import Keys\n",
    "\n",
    "import numpy as np\n",
    "\n",
    "import pickle"
   ]
  },
  {
   "cell_type": "code",
   "execution_count": 12,
   "id": "f447e6dd-4050-47d1-87bd-a7ca307ad091",
   "metadata": {},
   "outputs": [],
   "source": [
    "def progressBar(current, total, barLength = 20):\n",
    "    percent = float(current) * 100 / total\n",
    "    arrow   = '=' * int(percent/100 * barLength - 1) + '>'\n",
    "    spaces  = ' ' * (barLength - len(arrow))\n",
    "\n",
    "    print('Progress: [%s%s] %d %%' % (arrow, spaces, percent), end='\\r')"
   ]
  },
  {
   "cell_type": "code",
   "execution_count": 13,
   "id": "f6d0dd31-20a9-458c-aefa-08edb7499a59",
   "metadata": {},
   "outputs": [
    {
     "name": "stdout",
     "output_type": "stream",
     "text": [
      "Mempersiapkan database\n"
     ]
    }
   ],
   "source": [
    "print(\"Mempersiapkan database\")\n",
    "\n",
    "sqliteConnection = sqlite3.connect('ais05.db')\n",
    "sqlite_create_table_query = '''CREATE TABLE IF NOT EXISTS portCalls ( \n",
    "    event VARCHAR(20), \n",
    "    port_time VARCHAR(16), \n",
    "    port_id INT, \n",
    "    port_name VARCHAR(30), \n",
    "    vessel_name VARCHAR(30),\n",
    "    vessel_mmsi VARCHAR(20),\n",
    "    vessel_imo VARCHAR(20),\n",
    "    vessel_url TEXT\n",
    "    );'''\n",
    "\n",
    "cursor = sqliteConnection.cursor()\n",
    "cursor.execute(sqlite_create_table_query)\n",
    "\n",
    "sqliteConnection.commit()\n",
    "\n",
    "cursor.close()\n",
    "\n",
    "sqliteConnection.close()"
   ]
  },
  {
   "cell_type": "code",
   "execution_count": 14,
   "id": "a48723f2-5cad-47fb-8925-04a59832da8f",
   "metadata": {},
   "outputs": [
    {
     "name": "stdout",
     "output_type": "stream",
     "text": [
      "tanggal 2021-05-28 00:00:00 - 2021-05-28 23:59:59\n"
     ]
    }
   ],
   "source": [
    "today = date.today()\n",
    "today = datetime(today.year, today.month, today.day)\n",
    "\n",
    "yesterday  = today - timedelta(1)\n",
    "yesterday1 = today - timedelta(seconds=1)\n",
    "\n",
    "currentDate = str(yesterday.timestamp())+\"_\"+str(yesterday1.timestamp())\n",
    "\n",
    "print(\"tanggal\",yesterday,\"-\",yesterday1)"
   ]
  },
  {
   "cell_type": "code",
   "execution_count": 15,
   "id": "fca4b278-9faf-4562-b29f-93302b21eac1",
   "metadata": {},
   "outputs": [],
   "source": [
    "currentDate = currentDate.replace(\".0\", \"\")"
   ]
  },
  {
   "cell_type": "code",
   "execution_count": 16,
   "id": "280045a6-8e33-4fee-98a9-16f79bb57412",
   "metadata": {},
   "outputs": [
    {
     "data": {
      "text/plain": [
       "'1622134800_1622221199'"
      ]
     },
     "execution_count": 16,
     "metadata": {},
     "output_type": "execute_result"
    }
   ],
   "source": [
    "currentDate"
   ]
  },
  {
   "cell_type": "code",
   "execution_count": 17,
   "id": "a72ad865-a003-4534-8512-c5c996657169",
   "metadata": {},
   "outputs": [],
   "source": [
    "%config Completer.use_jedi = False"
   ]
  },
  {
   "cell_type": "code",
   "execution_count": 18,
   "id": "06a11696-4074-4e42-b7ae-ec772c2acf2c",
   "metadata": {},
   "outputs": [],
   "source": [
    "currentUrl = \"https://www.myshiptracking.com/ports-arrivals-departures/?pid=ID&type=0&pp=50&time=\"+currentDate"
   ]
  },
  {
   "cell_type": "code",
   "execution_count": 19,
   "id": "9988085e-97ec-488c-91bb-d9a634f99d6e",
   "metadata": {},
   "outputs": [
    {
     "name": "stdout",
     "output_type": "stream",
     "text": [
      "membuka browser\n"
     ]
    }
   ],
   "source": [
    "print(\"membuka browser\")\n",
    "\n",
    "driver = webdriver.Chrome(\"./chromedriver\")\n",
    "driver.get(currentUrl)\n",
    "driver.get(currentUrl)"
   ]
  },
  {
   "cell_type": "code",
   "execution_count": 20,
   "id": "377e1e6a-09b5-4481-bbba-635421c20960",
   "metadata": {},
   "outputs": [],
   "source": [
    "last_page = int(driver.find_element_by_xpath(\"//div[@class='paging_column_center center']//li[position()=last()-1]\").text)\n",
    "\n",
    "nrecord = int(driver.find_element_by_xpath(\"//div[@class='paging_column_left left']//b\").text)"
   ]
  },
  {
   "cell_type": "code",
   "execution_count": 21,
   "id": "f27a3bc8-a458-4658-aa1b-0f65bb8b46d7",
   "metadata": {},
   "outputs": [
    {
     "name": "stdout",
     "output_type": "stream",
     "text": [
      "terdapat 98 record\n",
      "Progress: [===================>] 100 %\n",
      "\n"
     ]
    }
   ],
   "source": [
    "dportCalls = []\n",
    "list_vessel = []\n",
    "\n",
    "print(\"terdapat\",nrecord,\"record\")\n",
    "\n",
    "i = 0\n",
    "for page in range(1, last_page+1):\n",
    "    \n",
    "    driver.get(currentUrl + \"&page=\" + str(page))\n",
    "    rows = driver.find_elements_by_class_name(\"table-row\")\n",
    "    \n",
    "    for row in rows:\n",
    "        \n",
    "        progressBar(i, nrecord)\n",
    "        \n",
    "        col = row.find_elements_by_class_name(\"col\")\n",
    "        \n",
    "        getEvent = col[1].text\n",
    "        getTime = col[2].text\n",
    "        getPort = col[3].text\n",
    "\n",
    "        getPortId = col[3].find_element_by_tag_name(\"a\").get_attribute(\"href\")\n",
    "        getPortId = int(getPortId.split(\"indonesia-id-\")[1])\n",
    "\n",
    "        getVessel = col[4].text\n",
    "\n",
    "        getVesselMMSI = col[4].find_element_by_tag_name(\"a\").get_attribute(\"href\")\n",
    "        getVesselMMSI = getVesselMMSI.split(\"-mmsi-\")[1]\n",
    "        \n",
    "        temp = getVesselMMSI.split(\"-imo-\")\n",
    "        if temp[1] == \"0\":\n",
    "            temp[1] = \"\"\n",
    "\n",
    "        getVesselMMSI = temp[0]\n",
    "        getVesselIMO = temp[1]\n",
    "        \n",
    "        getVesselUrl = col[4].find_element_by_tag_name(\"a\").get_attribute(\"href\")\n",
    "        \n",
    "        dportCalls.append((getEvent, getTime, getPort, getPortId, getVessel, getVesselMMSI, getVesselIMO, getVesselUrl))\n",
    "        \n",
    "        list_vessel.append(getVesselUrl)\n",
    "    \n",
    "        i=i+1\n",
    "        progressBar(i, nrecord)\n",
    "        \n",
    "print(\"\\n\")"
   ]
  },
  {
   "cell_type": "code",
   "execution_count": 22,
   "id": "3253c700-09a8-4ac9-b1bb-e0053f7c8533",
   "metadata": {},
   "outputs": [],
   "source": [
    "list_vessel = np.asarray(list_vessel)\n",
    "list_vessel = np.unique(list_vessel)"
   ]
  },
  {
   "cell_type": "code",
   "execution_count": 23,
   "id": "48273355-25a7-4d14-98bb-533f9722aa0b",
   "metadata": {},
   "outputs": [
    {
     "name": "stdout",
     "output_type": "stream",
     "text": [
      "simpan variabel pakai pickle (untuk jaga2)\n"
     ]
    }
   ],
   "source": [
    "print(\"simpan variabel pakai pickle (untuk jaga2)\")\n",
    "\n",
    "with open('list_vessel.pkl', 'wb') as f:  # Python 3: open(..., 'wb')\n",
    "    pickle.dump(list_vessel, f)\n",
    "    \n",
    "with open('data_port_calls.pkl', 'wb') as f:  # Python 3: open(..., 'wb')\n",
    "    pickle.dump(dportCalls, f)"
   ]
  },
  {
   "cell_type": "code",
   "execution_count": 24,
   "id": "9ffe9198-e07b-4ba2-b630-0b018abc4f59",
   "metadata": {},
   "outputs": [
    {
     "name": "stdout",
     "output_type": "stream",
     "text": [
      "simpan record portCalls ke database\n",
      "Store ke database tabel portCalls\n",
      "store ke database berhasil\n"
     ]
    }
   ],
   "source": [
    "# Simpan ke database (portCalls)\n",
    "\n",
    "print(\"simpan record portCalls ke database\")\n",
    "\n",
    "print(\"Store ke database tabel portCalls\")\n",
    "\n",
    "sqliteConnection = sqlite3.connect('ais05.db')\n",
    "cursor = sqliteConnection.cursor()\n",
    "\n",
    "cursor.execute(\"BEGIN TRANSACTION;\")\n",
    "try:\n",
    "    cursor.executemany(\"INSERT INTO portCalls (event, port_time, port_name, port_id, vessel_name, vessel_mmsi, vessel_imo, vessel_url) VALUES (?,?,?,?,?,?,?,?)\", dportCalls)\n",
    "    cursor.execute(\"commit\")\n",
    "    print(\"store ke database berhasil\")\n",
    "except sqliteConnection.Error:\n",
    "    print(\"gagal! roolback database\")\n",
    "    cursor.execute(\"rollback\")\n",
    "    \n",
    "cursor.close()\n",
    "sqliteConnection.close()"
   ]
  },
  {
   "cell_type": "code",
   "execution_count": 25,
   "id": "100d9601-93d6-403f-8fa0-17086ceadfc1",
   "metadata": {},
   "outputs": [],
   "source": [
    "# with open('list_vessel.pkl', 'rb') as f:  # Python 3: open(..., 'rb')\n",
    "#     list_vessel = pickle.load(f)"
   ]
  },
  {
   "cell_type": "code",
   "execution_count": 26,
   "id": "9c9501ed-846c-4a0e-95d8-11f2e35a1fa3",
   "metadata": {},
   "outputs": [
    {
     "name": "stdout",
     "output_type": "stream",
     "text": [
      "cek tabel vessels\n"
     ]
    }
   ],
   "source": [
    "# cek tabel vessels\n",
    "\n",
    "print(\"cek tabel vessels\")\n",
    "\n",
    "sqliteConnection = sqlite3.connect('ais05.db')\n",
    "sqlite_create_table_query = '''CREATE TABLE IF NOT EXISTS vessels ( \n",
    "    name VARCHAR(30), \n",
    "    flag VARCHAR(20), \n",
    "    mmsi VARCHAR(20), \n",
    "    imo VARCHAR(20), \n",
    "    call_sign VARCHAR(20),\n",
    "    type VARCHAR(50),\n",
    "    size VARCHAR(20),\n",
    "    speed_avg_max VARCHAR(30),\n",
    "    draught_avg VARCHAR(30),\n",
    "    grt_ton INT,\n",
    "    dwt_ton INT,\n",
    "    owner VARCHAR(20),\n",
    "    build_year INT,\n",
    "    url TEXT\n",
    "    );'''\n",
    "\n",
    "cursor = sqliteConnection.cursor()\n",
    "cursor.execute(sqlite_create_table_query)\n",
    "\n",
    "sqliteConnection.commit()\n",
    "\n",
    "cursor.close()\n",
    "\n",
    "sqliteConnection.close()"
   ]
  },
  {
   "cell_type": "code",
   "execution_count": 27,
   "id": "b5748fee-3551-42c9-86cd-dff3d546ef1b",
   "metadata": {},
   "outputs": [
    {
     "name": "stdout",
     "output_type": "stream",
     "text": [
      "cek kapal yang belum pernah dimasukan ke database sebelumnya\n"
     ]
    }
   ],
   "source": [
    "# ambil url yang pernah ada di database\n",
    "\n",
    "print(\"cek kapal yang belum pernah dimasukan ke database sebelumnya\")\n",
    "\n",
    "sqliteConnection = sqlite3.connect('ais05.db')\n",
    "\n",
    "cursor = sqliteConnection.cursor()\n",
    "\n",
    "temp = cursor.execute('select url from vessels')\n",
    "temp = cursor.fetchall()\n",
    "\n",
    "list_vessel_db = []\n",
    "for t in temp:\n",
    "    list_vessel_db.append((t[0]))\n",
    "\n",
    "sqliteConnection.commit()\n",
    "cursor.close()\n",
    "sqliteConnection.close()"
   ]
  },
  {
   "cell_type": "code",
   "execution_count": 28,
   "id": "3dbb9dd3-1e22-42f0-8cbe-8d78a45bef2c",
   "metadata": {},
   "outputs": [
    {
     "name": "stdout",
     "output_type": "stream",
     "text": [
      "terdapat 0 yang belum tercatat di database\n"
     ]
    }
   ],
   "source": [
    "# lalu disisakan url yang belum pernah tercatat dan dicatat ke list_vessel\n",
    "\n",
    "mask = np.in1d(list_vessel, list_vessel_db)\n",
    "list_vessel = list_vessel[np.where(~mask)[0]]\n",
    "\n",
    "print(\"terdapat\",len(list_vessel),\"yang belum tercatat di database\")"
   ]
  },
  {
   "cell_type": "code",
   "execution_count": 29,
   "id": "9c10c9bd-eb63-4184-949c-9a0761e43ccf",
   "metadata": {},
   "outputs": [
    {
     "name": "stdout",
     "output_type": "stream",
     "text": [
      "mencari informasi kapal\n"
     ]
    }
   ],
   "source": [
    "print(\"mencari informasi kapal\")\n",
    "\n",
    "dvessel = []\n",
    "\n",
    "i = 0\n",
    "for lv in list_vessel:\n",
    "\n",
    "    progressBar(i, len(list_vessel))\n",
    "    \n",
    "    driver.get(lv)\n",
    "    vesselInfo = driver.find_elements_by_xpath(\"//table[@class='vessels_table']//tr//td[position()=last()]\")\n",
    "    dvessel.append((\n",
    "        vesselInfo[0].text,\n",
    "        vesselInfo[1].text,\n",
    "        vesselInfo[2].text if vesselInfo[2].text != '---' else '',\n",
    "        vesselInfo[3].text if vesselInfo[3].text != '---' else '',\n",
    "        vesselInfo[4].text if vesselInfo[4].text != '---' else '',\n",
    "        vesselInfo[5].text if vesselInfo[5].text != '---' else '',\n",
    "        vesselInfo[6].text if vesselInfo[6].text != '---' else '',\n",
    "        vesselInfo[7].text if vesselInfo[7].text != '---' else '',\n",
    "        vesselInfo[8].text if vesselInfo[8].text != '---' else '',\n",
    "        vesselInfo[9].text if vesselInfo[9].text != '---' else '',\n",
    "        vesselInfo[10].text if vesselInfo[10].text != '---' else '',\n",
    "        vesselInfo[11].text if vesselInfo[11].text != '---' else '',\n",
    "        vesselInfo[12].text if vesselInfo[12].text != '---' else '',\n",
    "        lv\n",
    "    ))\n",
    "    \n",
    "    i=i+1\n",
    "    progressBar(i, len(list_vessel))"
   ]
  },
  {
   "cell_type": "code",
   "execution_count": 30,
   "id": "730d669c-a61b-4d65-a4be-d5995d390723",
   "metadata": {},
   "outputs": [
    {
     "name": "stdout",
     "output_type": "stream",
     "text": [
      "Store ke database tabel vessels\n",
      "store ke database berhasil\n"
     ]
    }
   ],
   "source": [
    "# Simpan ke database (vessels)\n",
    "\n",
    "print(\"Store ke database tabel vessels\")\n",
    "\n",
    "sqliteConnection = sqlite3.connect('ais05.db')\n",
    "cursor = sqliteConnection.cursor()\n",
    "\n",
    "cursor.execute(\"BEGIN TRANSACTION;\")\n",
    "try:\n",
    "    cursor.executemany('''\n",
    "    INSERT INTO vessels (\n",
    "    name, flag, mmsi, imo, call_sign, \n",
    "    type, size, speed_avg_max, draught_avg, \n",
    "    grt_ton, dwt_ton, owner, build_year, url\n",
    "    ) VALUES (?,?,?,?,?,?,?,?,?,?,?,?,?,?)\n",
    "    ''', dvessel)\n",
    "    cursor.execute(\"commit\")\n",
    "    print(\"store ke database berhasil\")\n",
    "except sqliteConnection.Error:\n",
    "    print(\"gagal! roolback database\")\n",
    "    cursor.execute(\"rollback\")\n",
    "    \n",
    "cursor.close()\n",
    "sqliteConnection.close()"
   ]
  },
  {
   "cell_type": "code",
   "execution_count": null,
   "id": "697f317d-4f56-4915-8aed-e9be54b6e831",
   "metadata": {},
   "outputs": [],
   "source": []
  }
 ],
 "metadata": {
  "kernelspec": {
   "display_name": "Python 3",
   "language": "python",
   "name": "python3"
  },
  "language_info": {
   "codemirror_mode": {
    "name": "ipython",
    "version": 3
   },
   "file_extension": ".py",
   "mimetype": "text/x-python",
   "name": "python",
   "nbconvert_exporter": "python",
   "pygments_lexer": "ipython3",
   "version": "3.8.8"
  }
 },
 "nbformat": 4,
 "nbformat_minor": 5
}
