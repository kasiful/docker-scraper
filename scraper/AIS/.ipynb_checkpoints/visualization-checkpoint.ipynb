{
 "cells": [
  {
   "cell_type": "code",
   "execution_count": 1,
   "metadata": {},
   "outputs": [],
   "source": [
    "import pandas as pd\n",
    "import sqlite3\n",
    "import seaborn as sns\n",
    "%matplotlib qt\n",
    "\n",
    "# vessel_type     flow       dates  num_pc         mtc       dwt  num_pc_ma       mtc_ma     dwt_ma"
   ]
  },
  {
   "cell_type": "code",
   "execution_count": 2,
   "metadata": {},
   "outputs": [
    {
     "name": "stdout",
     "output_type": "stream",
     "text": [
      "                 vessel_type     flow  num_pc        mtc       dwt  num_pc_ma  \\\n",
      "dates                                                                           \n",
      "2015-04-01  Container_gcargo  Imports     9.0  46881.351  238597.0      0.300   \n",
      "2015-04-01  Container_gcargo  Exports     5.0  25315.072   73094.0      0.167   \n",
      "2015-04-02  Container_gcargo  Imports     9.0  62992.594  167976.0      0.600   \n",
      "2015-04-02  Container_gcargo  Exports     5.0  35376.306  131974.0      0.333   \n",
      "2015-04-03  Container_gcargo  Imports     8.0  57089.906  264530.0      0.867   \n",
      "\n",
      "              mtc_ma     dwt_ma  \n",
      "dates                            \n",
      "2015-04-01  1562.712   7953.233  \n",
      "2015-04-01   843.836   2436.467  \n",
      "2015-04-02  3662.465  13552.434  \n",
      "2015-04-02  2023.046   6835.600  \n",
      "2015-04-03  5565.462  22370.100  \n"
     ]
    }
   ],
   "source": [
    "# Read sqlite query results into a pandas DataFrame\n",
    "con = sqlite3.connect(\"ais03.db\")\n",
    "df = pd.read_sql_query(\"SELECT * from aistrade where vessel_type='Container_gcargo' and dates >= '2015-01-01' order by dates asc\", con, index_col='dates', parse_dates='dates')\n",
    "\n",
    "# Verify that result of SQL query is stored in the dataframe\n",
    "print(df.head())\n",
    "\n",
    "con.close()"
   ]
  },
  {
   "cell_type": "code",
   "execution_count": 3,
   "metadata": {},
   "outputs": [],
   "source": [
    "sns.set_style(\"darkgrid\")"
   ]
  },
  {
   "cell_type": "code",
   "execution_count": 4,
   "metadata": {},
   "outputs": [
    {
     "data": {
      "text/plain": [
       "<AxesSubplot:xlabel='dates', ylabel='mtc_ma'>"
      ]
     },
     "execution_count": 4,
     "metadata": {},
     "output_type": "execute_result"
    }
   ],
   "source": [
    "sns.lineplot(data=df, x='dates', y='mtc_ma', hue='flow')"
   ]
  },
  {
   "cell_type": "code",
   "execution_count": null,
   "metadata": {},
   "outputs": [],
   "source": []
  }
 ],
 "metadata": {
  "kernelspec": {
   "display_name": "Python 3",
   "language": "python",
   "name": "python3"
  },
  "language_info": {
   "codemirror_mode": {
    "name": "ipython",
    "version": 3
   },
   "file_extension": ".py",
   "mimetype": "text/x-python",
   "name": "python",
   "nbconvert_exporter": "python",
   "pygments_lexer": "ipython3",
   "version": "3.8.5"
  }
 },
 "nbformat": 4,
 "nbformat_minor": 4
}
