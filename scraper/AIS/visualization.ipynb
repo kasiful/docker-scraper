{
 "cells": [
  {
   "cell_type": "code",
   "execution_count": 4,
   "metadata": {},
   "outputs": [],
   "source": [
    "import pandas as pd\n",
    "import sqlite3\n",
    "import seaborn as sns\n",
    "%matplotlib inline\n",
    "\n",
    "# vessel_type     flow       dates  num_pc         mtc       dwt  num_pc_ma       mtc_ma     dwt_ma"
   ]
  },
  {
   "cell_type": "code",
   "execution_count": 8,
   "metadata": {},
   "outputs": [
    {
     "name": "stdout",
     "output_type": "stream",
     "text": [
      "                 vessel_type     flow  num_pc         mtc       dwt  \\\n",
      "dates                                                                 \n",
      "2019-01-01  Container_gcargo  Imports    10.0  113224.139  330420.0   \n",
      "2019-01-01  Container_gcargo  Exports     1.0    9539.379   38096.0   \n",
      "2019-01-02  Container_gcargo  Imports     8.0   66880.458  158522.0   \n",
      "2019-01-02  Container_gcargo  Exports     3.0   37428.164   96471.0   \n",
      "2019-01-03  Container_gcargo  Imports     9.0   98499.023  206014.0   \n",
      "\n",
      "            num_pc_ma     mtc_ma      dwt_ma  \n",
      "dates                                         \n",
      "2019-01-01      8.667  80397.266  228400.470  \n",
      "2019-01-01      4.033  25069.182   78331.266  \n",
      "2019-01-02      8.600  79002.281  226059.910  \n",
      "2019-01-02      4.033  25934.877   80195.602  \n",
      "2019-01-03      8.633  79432.727  225232.470  \n"
     ]
    }
   ],
   "source": [
    "# Read sqlite query results into a pandas DataFrame\n",
    "con = sqlite3.connect(\"ais03.db\")\n",
    "df = pd.read_sql_query(\"SELECT * from aistrade where vessel_type='Container_gcargo' and dates >= '2019-01-01' order by dates asc\", con, index_col='dates', parse_dates='dates')\n",
    "\n",
    "# Verify that result of SQL query is stored in the dataframe\n",
    "print(df.head())\n",
    "\n",
    "con.close()"
   ]
  },
  {
   "cell_type": "code",
   "execution_count": 11,
   "metadata": {},
   "outputs": [
    {
     "data": {
      "text/html": [
       "<div>\n",
       "<style scoped>\n",
       "    .dataframe tbody tr th:only-of-type {\n",
       "        vertical-align: middle;\n",
       "    }\n",
       "\n",
       "    .dataframe tbody tr th {\n",
       "        vertical-align: top;\n",
       "    }\n",
       "\n",
       "    .dataframe thead th {\n",
       "        text-align: right;\n",
       "    }\n",
       "</style>\n",
       "<table border=\"1\" class=\"dataframe\">\n",
       "  <thead>\n",
       "    <tr style=\"text-align: right;\">\n",
       "      <th></th>\n",
       "      <th>vessel_type</th>\n",
       "      <th>flow</th>\n",
       "      <th>num_pc</th>\n",
       "      <th>mtc</th>\n",
       "      <th>dwt</th>\n",
       "      <th>num_pc_ma</th>\n",
       "      <th>mtc_ma</th>\n",
       "      <th>dwt_ma</th>\n",
       "    </tr>\n",
       "    <tr>\n",
       "      <th>dates</th>\n",
       "      <th></th>\n",
       "      <th></th>\n",
       "      <th></th>\n",
       "      <th></th>\n",
       "      <th></th>\n",
       "      <th></th>\n",
       "      <th></th>\n",
       "      <th></th>\n",
       "    </tr>\n",
       "  </thead>\n",
       "  <tbody>\n",
       "    <tr>\n",
       "      <th>2019-01-01</th>\n",
       "      <td>Container_gcargo</td>\n",
       "      <td>Imports</td>\n",
       "      <td>10.0</td>\n",
       "      <td>113224.139</td>\n",
       "      <td>330420.0</td>\n",
       "      <td>8.667</td>\n",
       "      <td>80397.266</td>\n",
       "      <td>228400.470</td>\n",
       "    </tr>\n",
       "    <tr>\n",
       "      <th>2019-01-01</th>\n",
       "      <td>Container_gcargo</td>\n",
       "      <td>Exports</td>\n",
       "      <td>1.0</td>\n",
       "      <td>9539.379</td>\n",
       "      <td>38096.0</td>\n",
       "      <td>4.033</td>\n",
       "      <td>25069.182</td>\n",
       "      <td>78331.266</td>\n",
       "    </tr>\n",
       "    <tr>\n",
       "      <th>2019-01-02</th>\n",
       "      <td>Container_gcargo</td>\n",
       "      <td>Imports</td>\n",
       "      <td>8.0</td>\n",
       "      <td>66880.458</td>\n",
       "      <td>158522.0</td>\n",
       "      <td>8.600</td>\n",
       "      <td>79002.281</td>\n",
       "      <td>226059.910</td>\n",
       "    </tr>\n",
       "    <tr>\n",
       "      <th>2019-01-02</th>\n",
       "      <td>Container_gcargo</td>\n",
       "      <td>Exports</td>\n",
       "      <td>3.0</td>\n",
       "      <td>37428.164</td>\n",
       "      <td>96471.0</td>\n",
       "      <td>4.033</td>\n",
       "      <td>25934.877</td>\n",
       "      <td>80195.602</td>\n",
       "    </tr>\n",
       "    <tr>\n",
       "      <th>2019-01-03</th>\n",
       "      <td>Container_gcargo</td>\n",
       "      <td>Imports</td>\n",
       "      <td>9.0</td>\n",
       "      <td>98499.023</td>\n",
       "      <td>206014.0</td>\n",
       "      <td>8.633</td>\n",
       "      <td>79432.727</td>\n",
       "      <td>225232.470</td>\n",
       "    </tr>\n",
       "  </tbody>\n",
       "</table>\n",
       "</div>"
      ],
      "text/plain": [
       "                 vessel_type     flow  num_pc         mtc       dwt  \\\n",
       "dates                                                                 \n",
       "2019-01-01  Container_gcargo  Imports    10.0  113224.139  330420.0   \n",
       "2019-01-01  Container_gcargo  Exports     1.0    9539.379   38096.0   \n",
       "2019-01-02  Container_gcargo  Imports     8.0   66880.458  158522.0   \n",
       "2019-01-02  Container_gcargo  Exports     3.0   37428.164   96471.0   \n",
       "2019-01-03  Container_gcargo  Imports     9.0   98499.023  206014.0   \n",
       "\n",
       "            num_pc_ma     mtc_ma      dwt_ma  \n",
       "dates                                         \n",
       "2019-01-01      8.667  80397.266  228400.470  \n",
       "2019-01-01      4.033  25069.182   78331.266  \n",
       "2019-01-02      8.600  79002.281  226059.910  \n",
       "2019-01-02      4.033  25934.877   80195.602  \n",
       "2019-01-03      8.633  79432.727  225232.470  "
      ]
     },
     "execution_count": 11,
     "metadata": {},
     "output_type": "execute_result"
    }
   ],
   "source": [
    "df.head()"
   ]
  },
  {
   "cell_type": "code",
   "execution_count": 12,
   "metadata": {},
   "outputs": [],
   "source": [
    "sns.set_style(\"darkgrid\")"
   ]
  },
  {
   "cell_type": "code",
   "execution_count": 13,
   "metadata": {},
   "outputs": [
    {
     "data": {
      "text/plain": [
       "<AxesSubplot:xlabel='dates', ylabel='mtc_ma'>"
      ]
     },
     "execution_count": 13,
     "metadata": {},
     "output_type": "execute_result"
    },
    {
     "data": {
      "image/png": "[encoded data removed]",
      "text/plain": [
       "<Figure size 432x288 with 1 Axes>"
      ]
     },
     "metadata": {},
     "output_type": "display_data"
    }
   ],
   "source": [
    "sns.lineplot(data=df, x='dates', y='mtc_ma', hue='flow')"
   ]
  },
  {
   "cell_type": "code",
   "execution_count": null,
   "metadata": {},
   "outputs": [],
   "source": []
  }
 ],
 "metadata": {
  "kernelspec": {
   "display_name": "Python 3",
   "language": "python",
   "name": "python3"
  },
  "language_info": {
   "codemirror_mode": {
    "name": "ipython",
    "version": 3
   },
   "file_extension": ".py",
   "mimetype": "text/x-python",
   "name": "python",
   "nbconvert_exporter": "python",
   "pygments_lexer": "ipython3",
   "version": "3.8.8"
  }
 },
 "nbformat": 4,
 "nbformat_minor": 4
}
