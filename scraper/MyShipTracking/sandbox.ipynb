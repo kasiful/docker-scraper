{
 "cells": [
  {
   "cell_type": "code",
   "execution_count": 6,
   "id": "a8b23320-5273-49e4-994a-aaff167dea07",
   "metadata": {},
   "outputs": [],
   "source": [
    "import sqlite3\n",
    "\n",
    "from datetime import datetime\n",
    "from datetime import date\n",
    "from datetime import timedelta"
   ]
  },
  {
   "cell_type": "code",
   "execution_count": 4,
   "id": "94af4222-8f94-4fbc-85df-98a1f250eeed",
   "metadata": {},
   "outputs": [],
   "source": [
    "sqliteConnection = sqlite3.connect('ais05.db')\n",
    "cursor = sqliteConnection.cursor()\n",
    "\n",
    "try:\n",
    "    cursor.execute(\"select port_time from portCalls order by port_time DESC limit 1\")\n",
    "    last_date = cursor.fetchone()[0]\n",
    "except sqliteConnection.Error as e:\n",
    "    print(\"gagal! roolback database:\", e)\n",
    "    \n",
    "cursor.close()\n",
    "sqliteConnection.close()"
   ]
  },
  {
   "cell_type": "code",
   "execution_count": 5,
   "id": "a1740249-f16b-4907-9f34-a42749f6080a",
   "metadata": {},
   "outputs": [
    {
     "data": {
      "text/plain": [
       "'2021-05-28 23:56'"
      ]
     },
     "execution_count": 5,
     "metadata": {},
     "output_type": "execute_result"
    }
   ],
   "source": [
    "last_date"
   ]
  },
  {
   "cell_type": "code",
   "execution_count": 10,
   "id": "ec2aa298-a957-48d3-96cf-a6e42ab35267",
   "metadata": {},
   "outputs": [
    {
     "ename": "TypeError",
     "evalue": "strptime() argument 1 must be str, not datetime.datetime",
     "output_type": "error",
     "traceback": [
      "\u001b[0;31m---------------------------------------------------------------------------\u001b[0m",
      "\u001b[0;31mTypeError\u001b[0m                                 Traceback (most recent call last)",
      "\u001b[0;32m<ipython-input-10-50be09751786>\u001b[0m in \u001b[0;36m<module>\u001b[0;34m\u001b[0m\n\u001b[0;32m----> 1\u001b[0;31m \u001b[0mlast_date\u001b[0m \u001b[0;34m=\u001b[0m \u001b[0mdatetime\u001b[0m\u001b[0;34m.\u001b[0m\u001b[0mstrptime\u001b[0m\u001b[0;34m(\u001b[0m\u001b[0mlast_date\u001b[0m\u001b[0;34m,\u001b[0m \u001b[0;34m'%Y-%m-%d %H:%M'\u001b[0m\u001b[0;34m)\u001b[0m\u001b[0;34m\u001b[0m\u001b[0;34m\u001b[0m\u001b[0m\n\u001b[0m\u001b[1;32m      2\u001b[0m \u001b[0mlast_date\u001b[0m\u001b[0;34m.\u001b[0m\u001b[0mtimestamp\u001b[0m\u001b[0;34m(\u001b[0m\u001b[0;34m)\u001b[0m\u001b[0;34m\u001b[0m\u001b[0;34m\u001b[0m\u001b[0m\n",
      "\u001b[0;31mTypeError\u001b[0m: strptime() argument 1 must be str, not datetime.datetime"
     ]
    }
   ],
   "source": [
    "last_date = datetime.strptime(last_date, '%Y-%m-%d %H:%M')"
   ]
  },
  {
   "cell_type": "code",
   "execution_count": 17,
   "id": "02904324-cd0c-4af5-a529-cb35e7a94c40",
   "metadata": {},
   "outputs": [
    {
     "name": "stdout",
     "output_type": "stream",
     "text": [
      "tanggal 2021-05-28 23:56:00 - 2021-05-28 23:59:59\n"
     ]
    }
   ],
   "source": [
    "today = date.today()\n",
    "today = datetime(today.year, today.month, today.day)\n",
    "\n",
    "# yesterday  = today - timedelta(1)\n",
    "yesterday1 = today - timedelta(seconds=1)\n",
    "\n",
    "currentDate = str(last_date.timestamp())+\"_\"+str(yesterday1.timestamp())\n",
    "\n",
    "print(\"tanggal\",last_date,\"-\",yesterday1)"
   ]
  },
  {
   "cell_type": "code",
   "execution_count": null,
   "id": "2b43ff21-0c9e-4d97-8706-5d0b49ed0390",
   "metadata": {},
   "outputs": [],
   "source": []
  }
 ],
 "metadata": {
  "kernelspec": {
   "display_name": "Python 3",
   "language": "python",
   "name": "python3"
  },
  "language_info": {
   "codemirror_mode": {
    "name": "ipython",
    "version": 3
   },
   "file_extension": ".py",
   "mimetype": "text/x-python",
   "name": "python",
   "nbconvert_exporter": "python",
   "pygments_lexer": "ipython3",
   "version": "3.8.8"
  }
 },
 "nbformat": 4,
 "nbformat_minor": 5
}
